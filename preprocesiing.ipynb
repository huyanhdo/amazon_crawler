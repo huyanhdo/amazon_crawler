{
 "cells": [
  {
   "cell_type": "code",
   "execution_count": 5,
   "metadata": {},
   "outputs": [],
   "source": [
    "import os\n",
    "import pandas as pd"
   ]
  },
  {
   "cell_type": "code",
   "execution_count": 15,
   "metadata": {},
   "outputs": [],
   "source": [
    "path = './csv'\n",
    "list_csv = os.listdir(path)\n",
    "list_df = [pd.read_csv(path+ '/'+csv).drop(columns='Unnamed: 0') for csv in list_csv]"
   ]
  },
  {
   "cell_type": "code",
   "execution_count": 16,
   "metadata": {},
   "outputs": [
    {
     "data": {
      "text/html": [
       "<div>\n",
       "<style scoped>\n",
       "    .dataframe tbody tr th:only-of-type {\n",
       "        vertical-align: middle;\n",
       "    }\n",
       "\n",
       "    .dataframe tbody tr th {\n",
       "        vertical-align: top;\n",
       "    }\n",
       "\n",
       "    .dataframe thead th {\n",
       "        text-align: right;\n",
       "    }\n",
       "</style>\n",
       "<table border=\"1\" class=\"dataframe\">\n",
       "  <thead>\n",
       "    <tr style=\"text-align: right;\">\n",
       "      <th></th>\n",
       "      <th>product</th>\n",
       "      <th>comment</th>\n",
       "    </tr>\n",
       "  </thead>\n",
       "  <tbody>\n",
       "    <tr>\n",
       "      <th>0</th>\n",
       "      <td>MSI GE76 Raider 17.3\" 144Hz Gaming Laptop Inte...</td>\n",
       "      <td>I ordered this laptop through Amazon after rea...</td>\n",
       "    </tr>\n",
       "    <tr>\n",
       "      <th>1</th>\n",
       "      <td>Acer ConceptD 3 Ezel CC314-72G-72SX Convertibl...</td>\n",
       "      <td>NaN</td>\n",
       "    </tr>\n",
       "    <tr>\n",
       "      <th>2</th>\n",
       "      <td>Acer ConceptD 3 Ezel CC314-72G-72SX Convertibl...</td>\n",
       "      <td>I got it because I wanted a laptop that I can ...</td>\n",
       "    </tr>\n",
       "    <tr>\n",
       "      <th>3</th>\n",
       "      <td>Acer ConceptD 3 Ezel CC314-72G-72SX Convertibl...</td>\n",
       "      <td>Excelente laptop, un estilo sin igual, los col...</td>\n",
       "    </tr>\n",
       "    <tr>\n",
       "      <th>4</th>\n",
       "      <td>Acer ConceptD 3 Ezel CC314-72G-72SX Convertibl...</td>\n",
       "      <td>I got this device a few weeks ago and wanted t...</td>\n",
       "    </tr>\n",
       "  </tbody>\n",
       "</table>\n",
       "</div>"
      ],
      "text/plain": [
       "                                             product  \\\n",
       "0  MSI GE76 Raider 17.3\" 144Hz Gaming Laptop Inte...   \n",
       "1  Acer ConceptD 3 Ezel CC314-72G-72SX Convertibl...   \n",
       "2  Acer ConceptD 3 Ezel CC314-72G-72SX Convertibl...   \n",
       "3  Acer ConceptD 3 Ezel CC314-72G-72SX Convertibl...   \n",
       "4  Acer ConceptD 3 Ezel CC314-72G-72SX Convertibl...   \n",
       "\n",
       "                                             comment  \n",
       "0  I ordered this laptop through Amazon after rea...  \n",
       "1                                                NaN  \n",
       "2  I got it because I wanted a laptop that I can ...  \n",
       "3  Excelente laptop, un estilo sin igual, los col...  \n",
       "4  I got this device a few weeks ago and wanted t...  "
      ]
     },
     "execution_count": 16,
     "metadata": {},
     "output_type": "execute_result"
    }
   ],
   "source": [
    "list_df[0].head(5)"
   ]
  },
  {
   "cell_type": "code",
   "execution_count": 17,
   "metadata": {},
   "outputs": [],
   "source": [
    "df = pd.DataFrame(columns = ['product','comment'])\n",
    "for i in list_df:\n",
    "    df = df.append(i,ignore_index=True)"
   ]
  },
  {
   "cell_type": "code",
   "execution_count": 19,
   "metadata": {},
   "outputs": [
    {
     "data": {
      "text/html": [
       "<div>\n",
       "<style scoped>\n",
       "    .dataframe tbody tr th:only-of-type {\n",
       "        vertical-align: middle;\n",
       "    }\n",
       "\n",
       "    .dataframe tbody tr th {\n",
       "        vertical-align: top;\n",
       "    }\n",
       "\n",
       "    .dataframe thead th {\n",
       "        text-align: right;\n",
       "    }\n",
       "</style>\n",
       "<table border=\"1\" class=\"dataframe\">\n",
       "  <thead>\n",
       "    <tr style=\"text-align: right;\">\n",
       "      <th></th>\n",
       "      <th>product</th>\n",
       "      <th>comment</th>\n",
       "    </tr>\n",
       "  </thead>\n",
       "  <tbody>\n",
       "    <tr>\n",
       "      <th>0</th>\n",
       "      <td>MSI GE76 Raider 17.3\" 144Hz Gaming Laptop Inte...</td>\n",
       "      <td>I ordered this laptop through Amazon after rea...</td>\n",
       "    </tr>\n",
       "    <tr>\n",
       "      <th>1</th>\n",
       "      <td>Acer ConceptD 3 Ezel CC314-72G-72SX Convertibl...</td>\n",
       "      <td>NaN</td>\n",
       "    </tr>\n",
       "    <tr>\n",
       "      <th>2</th>\n",
       "      <td>Acer ConceptD 3 Ezel CC314-72G-72SX Convertibl...</td>\n",
       "      <td>I got it because I wanted a laptop that I can ...</td>\n",
       "    </tr>\n",
       "    <tr>\n",
       "      <th>3</th>\n",
       "      <td>Acer ConceptD 3 Ezel CC314-72G-72SX Convertibl...</td>\n",
       "      <td>Excelente laptop, un estilo sin igual, los col...</td>\n",
       "    </tr>\n",
       "    <tr>\n",
       "      <th>4</th>\n",
       "      <td>Acer ConceptD 3 Ezel CC314-72G-72SX Convertibl...</td>\n",
       "      <td>I got this device a few weeks ago and wanted t...</td>\n",
       "    </tr>\n",
       "    <tr>\n",
       "      <th>...</th>\n",
       "      <td>...</td>\n",
       "      <td>...</td>\n",
       "    </tr>\n",
       "    <tr>\n",
       "      <th>67665</th>\n",
       "      <td>Samsung 11.6\" HD Chromebook, Intel Celeron Pro...</td>\n",
       "      <td>It's click and go, it does everything I need i...</td>\n",
       "    </tr>\n",
       "    <tr>\n",
       "      <th>67666</th>\n",
       "      <td>Samsung 11.6\" HD Chromebook, Intel Celeron Pro...</td>\n",
       "      <td>If you're as familiar with Chromebooks as I am...</td>\n",
       "    </tr>\n",
       "    <tr>\n",
       "      <th>67667</th>\n",
       "      <td>Samsung 11.6\" HD Chromebook, Intel Celeron Pro...</td>\n",
       "      <td>The screen quality is very good for what I pai...</td>\n",
       "    </tr>\n",
       "    <tr>\n",
       "      <th>67668</th>\n",
       "      <td>Samsung 11.6\" HD Chromebook, Intel Celeron Pro...</td>\n",
       "      <td>So far no complaints, great sound and picture ...</td>\n",
       "    </tr>\n",
       "    <tr>\n",
       "      <th>67669</th>\n",
       "      <td>Samsung 11.6\" HD Chromebook, Intel Celeron Pro...</td>\n",
       "      <td>Got it for my kid to do school work and it wor...</td>\n",
       "    </tr>\n",
       "  </tbody>\n",
       "</table>\n",
       "<p>64906 rows × 2 columns</p>\n",
       "</div>"
      ],
      "text/plain": [
       "                                                 product  \\\n",
       "0      MSI GE76 Raider 17.3\" 144Hz Gaming Laptop Inte...   \n",
       "1      Acer ConceptD 3 Ezel CC314-72G-72SX Convertibl...   \n",
       "2      Acer ConceptD 3 Ezel CC314-72G-72SX Convertibl...   \n",
       "3      Acer ConceptD 3 Ezel CC314-72G-72SX Convertibl...   \n",
       "4      Acer ConceptD 3 Ezel CC314-72G-72SX Convertibl...   \n",
       "...                                                  ...   \n",
       "67665  Samsung 11.6\" HD Chromebook, Intel Celeron Pro...   \n",
       "67666  Samsung 11.6\" HD Chromebook, Intel Celeron Pro...   \n",
       "67667  Samsung 11.6\" HD Chromebook, Intel Celeron Pro...   \n",
       "67668  Samsung 11.6\" HD Chromebook, Intel Celeron Pro...   \n",
       "67669  Samsung 11.6\" HD Chromebook, Intel Celeron Pro...   \n",
       "\n",
       "                                                 comment  \n",
       "0      I ordered this laptop through Amazon after rea...  \n",
       "1                                                    NaN  \n",
       "2      I got it because I wanted a laptop that I can ...  \n",
       "3      Excelente laptop, un estilo sin igual, los col...  \n",
       "4      I got this device a few weeks ago and wanted t...  \n",
       "...                                                  ...  \n",
       "67665  It's click and go, it does everything I need i...  \n",
       "67666  If you're as familiar with Chromebooks as I am...  \n",
       "67667  The screen quality is very good for what I pai...  \n",
       "67668  So far no complaints, great sound and picture ...  \n",
       "67669  Got it for my kid to do school work and it wor...  \n",
       "\n",
       "[64906 rows x 2 columns]"
      ]
     },
     "execution_count": 19,
     "metadata": {},
     "output_type": "execute_result"
    }
   ],
   "source": [
    "df.drop_duplicates()"
   ]
  },
  {
   "cell_type": "code",
   "execution_count": 24,
   "metadata": {},
   "outputs": [
    {
     "name": "stdout",
     "output_type": "stream",
     "text": [
      "product    0\n",
      "comment    0\n",
      "dtype: int64\n",
      "66836\n"
     ]
    }
   ],
   "source": [
    "print(df.isna().sum())\n",
    "df.dropna(inplace=True)"
   ]
  },
  {
   "cell_type": "code",
   "execution_count": 27,
   "metadata": {},
   "outputs": [],
   "source": [
    "df.to_csv('./amazon.csv',index= False)"
   ]
  }
 ],
 "metadata": {
  "kernelspec": {
   "display_name": "Python 3.7.6 ('base')",
   "language": "python",
   "name": "python3"
  },
  "language_info": {
   "codemirror_mode": {
    "name": "ipython",
    "version": 3
   },
   "file_extension": ".py",
   "mimetype": "text/x-python",
   "name": "python",
   "nbconvert_exporter": "python",
   "pygments_lexer": "ipython3",
   "version": "3.7.6"
  },
  "orig_nbformat": 4,
  "vscode": {
   "interpreter": {
    "hash": "fa8c8df6f9e292510165baeb5712f480b49488142a31fb650aa882cce47a7083"
   }
  }
 },
 "nbformat": 4,
 "nbformat_minor": 2
}
